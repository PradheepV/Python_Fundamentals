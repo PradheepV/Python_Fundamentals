opened_file = open('AppleStore.csv')
import numpy as np
from csv import reader
read_file = reader(opened_file)
apps_data = list(read_file)
r_count_tot = []
new_list = []
for row in apps_data[1:]:
    r_count_tot.append(float(row[5]))
r_max = max(r_count_tot)
r_min = min(r_count_tot)
new_list = np.linspace(r_min,r_max,num=6, dtype=int)
dict1 = {i : 0 for i in new_list[1:]}
for row in apps_data[1:]:
    data_size = float(row[5])
    if data_size <= 594935:
        dict1[594935] += 1
    elif data_size > 594935 and data_size <= 1189870:
        dict1[1189870] += 1
    elif data_size > 1189870 and data_size <= 1784805:
        dict1[1784805] += 1
    elif data_size > 1784805 and data_size <= 2379740:
        dict1[2379740] += 1
    elif data_size > 2379740 and data_size <= 2974676:
        dict1[2974676] += 1
print(dict1)
