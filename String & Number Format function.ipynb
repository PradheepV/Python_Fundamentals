#This is the code that I have written to use format function to display 
#concatenation of string and number formatted by comma separators and showing 2 decimal places

pop_millions = [
    ["China", 1379.302771],
    ["India", 1281.935991],
    ["USA",  326.625791],
    ["Indonesia",  260.580739],
    ["Brazil",  207.353391],
]
template = "The population of {0} is {1:,.2f} million"
for values in pop_millions:
    country = values[0]
    figure = values[1]
    print(template.format(country,figure))
