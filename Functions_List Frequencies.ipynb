opened_file = open('AppleStore.csv')
from csv import reader
read_file = reader(opened_file)
apps_data = list(read_file)

def extract(list1,x):
    new_list = []
    for counter in list1[1:]:
        new_list.append(counter[x])
    return(new_list)
genres = extract(apps_data,11)
print(genres[:5])

def freq_table(list1):
    new_dict = {}
    for element in list1:
        if element in new_dict:
            new_dict[element] += 1
        else:
            new_dict[element] = 1
    return(new_dict)

genres_ft = freq_table(genres)
print(genres_ft)
          
