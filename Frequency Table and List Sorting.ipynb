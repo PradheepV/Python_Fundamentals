#Frequency Table generation by iterating over all list of lists (moma)
artist_freq = {}
for row in moma:
    artist = row[1]
    if artist not in artist_freq:
        artist_freq[artist] = 1
    else:
        artist_freq[artist] += 1

#Storing dictionary items into a list of lists as [value, key], followed by sorting on value descending
        artist_frequency_sorted = []        
for key,value in artist_freq.items():
    artist = key
    artworks = value
    artist_frequency_sorted.append([artworks, artist])
artist_frequency_sorted = sorted(artist_frequency_sorted, reverse = True)

print(artist_frequency_sorted)
        
