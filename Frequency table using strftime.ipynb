import datetime as dt

visitors_per_month = {}
for row in potus:
    appt_start = row[2]
    appt_start = dt.datetime.strftime(appt_start,"%B, %Y")
    if appt_start not in visitors_per_month:
        visitors_per_month[appt_start] = 1
    else:
        visitors_per_month[appt_start] += 1
