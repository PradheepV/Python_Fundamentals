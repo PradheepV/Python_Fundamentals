opened_file = open('AppleStore.csv')
from csv import reader
read_file = reader(opened_file)
apps_data = list(read_file)
def freq_table(list1, index):
    new_dict = {}
    for element in list1[1:]:
        c_rating = element[index]
        if c_rating in new_dict:
            new_dict[c_rating] += 1
        else:
            new_dict[c_rating] = 1
    return(new_dict)
ratings_ft = freq_table(apps_data, 7)
print(ratings_ft)
