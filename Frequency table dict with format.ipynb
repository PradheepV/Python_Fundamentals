#frequency table for gender
freq_gender = {}
for row in moma:
    gender = row[5]
    if gender not in freq_gender:
        freq_gender[gender] = 1
    else:
        freq_gender[gender] += 1

#Printing the gender frequencies using format function        
template = "There are {0:,} artworks by {1} artists"
for row in freq_gender:
    output = template.format(freq_gender[row],row)
    print(output)
    
