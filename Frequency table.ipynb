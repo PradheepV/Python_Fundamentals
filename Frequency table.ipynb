# The decades variable is available
# from the previous screen
decade_frequency = {}
for row in decades:
    if row not in decade_frequency:
        decade_frequency[row] = 1
    else:
        decade_frequency[row] += 1
print(decade_frequency)
    
