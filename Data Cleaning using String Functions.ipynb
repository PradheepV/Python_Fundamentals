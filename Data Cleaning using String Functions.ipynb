test_data = ["1912", "1929", "1913-1923",
             "(1951)", "1994", "1934",
             "c. 1915", "1995", "c. 1912",
             "(1988)", "2002", "1957-1959",
             "c. 1955.", "c. 1970's", 
             "C. 1990-1999"]

bad_chars = ["(",")","c","C",".","s","'", " "]

def strip_characters(string):
    for char in bad_chars:
        string = string.replace(char,"")
    return string

stripped_test_data = ['1912', '1929', '1913-1923',
                      '1951', '1994', '1934',
                      '1915', '1995', '1912',
                      '1988', '2002', '1957-1959',
                      '1955', '1970', '1990-1999']
def process_date(string):
    if '-' in string:
        split_string = string.split("-")
        str1 = int(split_string[0])
        str2 = int(split_string[1])
        final_string = int(round((str1+str2)/2))
    else:
        final_string = int(string)
    return(final_string)

#Empty list
processed_test_data = []
for date in stripped_test_data:
    date1 = process_date(date)
    processed_test_data.append(date1)
print(processed_test_data)
    
for row in moma:
    moma_date = row[6]
    moma_date = strip_characters(moma_date)
    moma_date = process_date(moma_date)
    row[6] = moma_date
print(moma[0:20])
